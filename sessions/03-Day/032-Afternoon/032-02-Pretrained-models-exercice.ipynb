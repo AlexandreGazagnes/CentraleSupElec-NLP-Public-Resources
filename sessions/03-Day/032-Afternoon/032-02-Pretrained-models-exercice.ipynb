{
 "cells": [
  {
   "cell_type": "markdown",
   "id": "298b47ff",
   "metadata": {},
   "source": [
    "# 03-02 - Pretrained-models - Solution Notebook"
   ]
  },
  {
   "cell_type": "markdown",
   "id": "71994d33",
   "metadata": {},
   "source": [
    "* Written by Alexandre Gazagnes\n",
    "* Last update: 2024-02-01"
   ]
  },
  {
   "cell_type": "markdown",
   "id": "0734f5ce",
   "metadata": {},
   "source": [
    "## About "
   ]
  },
  {
   "cell_type": "markdown",
   "id": "35632ede",
   "metadata": {},
   "source": [
    "Context : "
   ]
  },
  {
   "cell_type": "markdown",
   "id": "e3cf4220",
   "metadata": {},
   "source": [
    "Let's Continue the Party! "
   ]
  },
  {
   "cell_type": "markdown",
   "id": "8a6ded8b",
   "metadata": {},
   "source": [
    "Data  : \n",
    "\n",
    "**You can find the dataset [here](https://www.kaggle.com/datasets/shoumikdhar/amazon-food-reviews-100k-datasets).**\n",
    "\n",
    "\n"
   ]
  },
  {
   "cell_type": "markdown",
   "id": "5ce5a725",
   "metadata": {},
   "source": [
    "## Preliminaries"
   ]
  },
  {
   "cell_type": "markdown",
   "id": "8073d0cc",
   "metadata": {},
   "source": [
    "### System"
   ]
  },
  {
   "cell_type": "markdown",
   "id": "2803f667",
   "metadata": {},
   "source": [
    "These commands will display the system information:\n",
    "\n",
    "Uncomment theses lines if needed. "
   ]
  },
  {
   "cell_type": "code",
   "execution_count": null,
   "id": "c287eb60",
   "metadata": {},
   "outputs": [],
   "source": [
    "# pwd"
   ]
  },
  {
   "cell_type": "code",
   "execution_count": null,
   "id": "a3c5cdb9",
   "metadata": {},
   "outputs": [],
   "source": [
    "# cd .."
   ]
  },
  {
   "cell_type": "code",
   "execution_count": null,
   "id": "aa6c813d",
   "metadata": {},
   "outputs": [],
   "source": [
    "# ls"
   ]
  },
  {
   "cell_type": "code",
   "execution_count": null,
   "id": "a613c2af",
   "metadata": {},
   "outputs": [],
   "source": [
    "# cd .."
   ]
  },
  {
   "cell_type": "code",
   "execution_count": null,
   "id": "699eca0a",
   "metadata": {},
   "outputs": [],
   "source": [
    "# ls"
   ]
  },
  {
   "cell_type": "markdown",
   "id": "72149aff",
   "metadata": {},
   "source": [
    "### Import "
   ]
  },
  {
   "cell_type": "code",
   "execution_count": null,
   "id": "675d836c",
   "metadata": {},
   "outputs": [],
   "source": [
    "# import os, sys, warnings, secrets, datetime\n",
    "# import pickle\n",
    "\n",
    "from IPython.display import display\n",
    "import zipfile"
   ]
  },
  {
   "cell_type": "code",
   "execution_count": null,
   "id": "16e32c32",
   "metadata": {},
   "outputs": [],
   "source": [
    "import pandas as pd\n",
    "\n",
    "# import numpy as np"
   ]
  },
  {
   "cell_type": "code",
   "execution_count": null,
   "id": "0847dcde",
   "metadata": {},
   "outputs": [],
   "source": [
    "import plotly.px as px"
   ]
  },
  {
   "cell_type": "code",
   "execution_count": null,
   "id": "dbd00ffc",
   "metadata": {},
   "outputs": [],
   "source": [
    "import tensorflow as tf"
   ]
  },
  {
   "cell_type": "code",
   "execution_count": null,
   "id": "5fcb0526",
   "metadata": {},
   "outputs": [],
   "source": [
    "import transformers\n",
    "\n",
    "from transformers import pipeline, set_seed\n",
    "\n",
    "from transformers import T5Tokenizer, T5ForConditionalGeneration\n",
    "\n",
    "\n",
    "from transformers import BertTokenizer, BertForTokenClassification\n",
    "from transformers import BertTokenizer, BertForSequenceClassification\n",
    "\n",
    "from transformers import DistilBertTokenizer, DistilBertForSequenceClassification\n",
    "\n",
    "from transformers import RobertaTokenizer, RobertaForSequenceClassification\n",
    "from transformers import RobertaTokenizer, RobertaForMaskedLM\n",
    "\n",
    "from transformers import BartTokenizer, BartForConditionalGeneration\n",
    "\n",
    "from transformers import MarianMTModel, MarianTokenizer\n",
    "\n",
    "from transformers import GPT2LMHeadModel, GPT2Tokenizer, pipeline"
   ]
  },
  {
   "cell_type": "markdown",
   "id": "9bc1f1c7",
   "metadata": {},
   "source": [
    "### Third party tools"
   ]
  },
  {
   "cell_type": "code",
   "execution_count": null,
   "id": "25613545",
   "metadata": {},
   "outputs": [],
   "source": [
    "set_seed(42)"
   ]
  },
  {
   "cell_type": "code",
   "execution_count": null,
   "id": "6f73f010",
   "metadata": {},
   "outputs": [],
   "source": [
    "classifier = pipeline(\"sentiment-analysis\")"
   ]
  },
  {
   "cell_type": "code",
   "execution_count": null,
   "id": "47958d32",
   "metadata": {},
   "outputs": [],
   "source": [
    "roberta_sentiment = pipeline(\n",
    "    \"sentiment-analysis\", model=\"cardiffnlp/twitter-roberta-base-sentiment-latest\"\n",
    ")"
   ]
  },
  {
   "cell_type": "code",
   "execution_count": null,
   "id": "46115117",
   "metadata": {},
   "outputs": [],
   "source": [
    "question_answerer = pipeline(\"question-answering\")"
   ]
  },
  {
   "cell_type": "code",
   "execution_count": null,
   "id": "a366917c",
   "metadata": {},
   "outputs": [],
   "source": [
    "gpt2_generator = pipeline(\"text-generation\", model=\"gpt2\")"
   ]
  },
  {
   "cell_type": "code",
   "execution_count": null,
   "id": "b33d5404",
   "metadata": {},
   "outputs": [],
   "source": [
    "# bloom = pipeline(\"text-generation\", model=\"bigscience/bloom-7b1\")"
   ]
  },
  {
   "cell_type": "markdown",
   "id": "df11701a",
   "metadata": {},
   "source": [
    "### Data"
   ]
  },
  {
   "cell_type": "markdown",
   "id": "787f1cfc",
   "metadata": {},
   "source": [
    "url of the dataset :"
   ]
  },
  {
   "cell_type": "code",
   "execution_count": null,
   "id": "f59ecae9",
   "metadata": {},
   "outputs": [],
   "source": [
    "!wget https://www.kaggle.com/datasets/shoumikdhar/amazon-food-reviews-100k-datasets"
   ]
  },
  {
   "cell_type": "markdown",
   "id": "9b7a1b23",
   "metadata": {},
   "source": [
    "Load .zip file"
   ]
  },
  {
   "cell_type": "code",
   "execution_count": null,
   "id": "855343f2",
   "metadata": {},
   "outputs": [],
   "source": [
    "with zipfile.ZipFile(\"archive.zip\", \"r\") as zip_ref:\n",
    "    zip_ref.extractall(\"archive\")\n",
    "    extracted_file = zip_ref.namelist()[0]\n",
    "    df = pd.read_csv(f\"archive/{extracted_file}\")"
   ]
  },
  {
   "cell_type": "markdown",
   "id": "cef760e4",
   "metadata": {},
   "source": [
    "## Data Exploration"
   ]
  },
  {
   "cell_type": "code",
   "execution_count": null,
   "id": "0a765795",
   "metadata": {},
   "outputs": [],
   "source": [
    "df.head()"
   ]
  },
  {
   "cell_type": "code",
   "execution_count": null,
   "id": "99b9055f",
   "metadata": {},
   "outputs": [],
   "source": [
    "df.tail()"
   ]
  },
  {
   "cell_type": "code",
   "execution_count": null,
   "id": "e592b54c",
   "metadata": {},
   "outputs": [],
   "source": [
    "df.sample(10)"
   ]
  },
  {
   "cell_type": "code",
   "execution_count": null,
   "id": "28a9f49d",
   "metadata": {},
   "outputs": [],
   "source": [
    "df[\"pseudo_token\"] = df.Review.apply(lambda x: x.split())\n",
    "df"
   ]
  },
  {
   "cell_type": "code",
   "execution_count": null,
   "id": "699cc20b",
   "metadata": {},
   "outputs": [],
   "source": [
    "df[\"n_psuedo_token\"] = df.pseudo_token.apply(len).describe().round(2)\n",
    "df.n_psuedo_token.describe()"
   ]
  },
  {
   "cell_type": "code",
   "execution_count": null,
   "id": "9c3ed20f",
   "metadata": {},
   "outputs": [],
   "source": [
    "df[\"_len\"] = df.Review.str.len().describe()\n",
    "df"
   ]
  },
  {
   "cell_type": "code",
   "execution_count": null,
   "id": "c64354b5",
   "metadata": {},
   "outputs": [],
   "source": [
    "df.Rating.describe().round(2)"
   ]
  },
  {
   "cell_type": "markdown",
   "id": "2d214f15",
   "metadata": {},
   "source": [
    "## High Level Implementation"
   ]
  },
  {
   "cell_type": "markdown",
   "id": "7733e417",
   "metadata": {},
   "source": [
    "### Classification & Sentiment Analysis"
   ]
  },
  {
   "cell_type": "markdown",
   "id": "6e5f269b",
   "metadata": {},
   "source": [
    "Use a classifier : "
   ]
  },
  {
   "cell_type": "code",
   "execution_count": null,
   "id": "7e46f223",
   "metadata": {},
   "outputs": [],
   "source": []
  },
  {
   "cell_type": "code",
   "execution_count": null,
   "id": "06ec019c",
   "metadata": {},
   "outputs": [],
   "source": []
  },
  {
   "cell_type": "code",
   "execution_count": null,
   "id": "d4f5b0f5",
   "metadata": {},
   "outputs": [],
   "source": []
  },
  {
   "cell_type": "markdown",
   "id": "23d039e3",
   "metadata": {},
   "source": [
    "Apply on a column : "
   ]
  },
  {
   "cell_type": "code",
   "execution_count": null,
   "id": "fe16f93f",
   "metadata": {},
   "outputs": [],
   "source": []
  },
  {
   "cell_type": "markdown",
   "id": "46fcb430",
   "metadata": {},
   "source": [
    "Results : "
   ]
  },
  {
   "cell_type": "code",
   "execution_count": null,
   "id": "f61cef09",
   "metadata": {},
   "outputs": [],
   "source": []
  },
  {
   "cell_type": "code",
   "execution_count": null,
   "id": "517f574a",
   "metadata": {},
   "outputs": [],
   "source": []
  },
  {
   "cell_type": "markdown",
   "id": "6ce994eb",
   "metadata": {},
   "source": [
    "Join Both : "
   ]
  },
  {
   "cell_type": "code",
   "execution_count": null,
   "id": "55da453c",
   "metadata": {},
   "outputs": [],
   "source": []
  },
  {
   "cell_type": "markdown",
   "id": "b28cc386",
   "metadata": {},
   "source": [
    "using another tool : "
   ]
  },
  {
   "cell_type": "code",
   "execution_count": null,
   "id": "52ae757b",
   "metadata": {},
   "outputs": [],
   "source": []
  },
  {
   "cell_type": "code",
   "execution_count": null,
   "id": "b03a33d3",
   "metadata": {},
   "outputs": [],
   "source": []
  },
  {
   "cell_type": "code",
   "execution_count": null,
   "id": "adcf4ee9",
   "metadata": {},
   "outputs": [],
   "source": []
  },
  {
   "cell_type": "code",
   "execution_count": null,
   "id": "16630c61",
   "metadata": {},
   "outputs": [],
   "source": []
  },
  {
   "cell_type": "markdown",
   "id": "7bd2b592",
   "metadata": {},
   "source": [
    "check this blog for more infomation: [Getting Started with Sentiment Analysis using Python](https://huggingface.co/blog/sentiment-analysis-python)"
   ]
  },
  {
   "cell_type": "markdown",
   "id": "f4a0ec68",
   "metadata": {},
   "source": [
    "### Information Extraction & Questing Answering"
   ]
  },
  {
   "cell_type": "code",
   "execution_count": null,
   "id": "02da0ed1",
   "metadata": {},
   "outputs": [],
   "source": []
  },
  {
   "cell_type": "code",
   "execution_count": null,
   "id": "80c20f2a",
   "metadata": {},
   "outputs": [],
   "source": []
  },
  {
   "cell_type": "markdown",
   "id": "6cd28ba5",
   "metadata": {},
   "source": [
    "### Text Generation & Prompting"
   ]
  },
  {
   "cell_type": "code",
   "execution_count": null,
   "id": "e22c7a5e",
   "metadata": {},
   "outputs": [],
   "source": []
  },
  {
   "cell_type": "code",
   "execution_count": null,
   "id": "c2c61347",
   "metadata": {},
   "outputs": [],
   "source": [
    "# with the open source Bloom model https://huggingface.co/bigscience/bloom"
   ]
  },
  {
   "cell_type": "code",
   "execution_count": null,
   "id": "36ae36a4",
   "metadata": {},
   "outputs": [],
   "source": []
  },
  {
   "cell_type": "code",
   "execution_count": null,
   "id": "8dc6eada",
   "metadata": {},
   "outputs": [],
   "source": []
  },
  {
   "cell_type": "markdown",
   "id": "d8cd5af0",
   "metadata": {},
   "source": [
    "### Translation"
   ]
  },
  {
   "cell_type": "code",
   "execution_count": null,
   "id": "924a1b16",
   "metadata": {},
   "outputs": [],
   "source": []
  },
  {
   "cell_type": "code",
   "execution_count": null,
   "id": "3883eb56",
   "metadata": {},
   "outputs": [],
   "source": []
  },
  {
   "cell_type": "markdown",
   "id": "9348e801",
   "metadata": {},
   "source": [
    "### Summarization"
   ]
  },
  {
   "cell_type": "code",
   "execution_count": null,
   "id": "e4e8908f",
   "metadata": {},
   "outputs": [],
   "source": []
  },
  {
   "cell_type": "code",
   "execution_count": null,
   "id": "2c6c04b6",
   "metadata": {},
   "outputs": [],
   "source": []
  },
  {
   "cell_type": "code",
   "execution_count": null,
   "id": "75a40c16",
   "metadata": {},
   "outputs": [],
   "source": []
  },
  {
   "cell_type": "markdown",
   "id": "114fe08b",
   "metadata": {},
   "source": [
    "## Specific Implementation"
   ]
  },
  {
   "cell_type": "markdown",
   "id": "e46599ac",
   "metadata": {},
   "source": [
    "### Sentiment"
   ]
  },
  {
   "cell_type": "markdown",
   "id": "9cd0f4e3",
   "metadata": {},
   "source": [
    "Load pre-trained model and tokenizer"
   ]
  },
  {
   "cell_type": "code",
   "execution_count": null,
   "id": "a6e26a68",
   "metadata": {},
   "outputs": [],
   "source": []
  },
  {
   "cell_type": "markdown",
   "id": "0b24cea5",
   "metadata": {},
   "source": [
    "\n",
    "Sentiment analysis pipeline\n",
    "\n"
   ]
  },
  {
   "cell_type": "code",
   "execution_count": null,
   "id": "cef3eda7",
   "metadata": {},
   "outputs": [],
   "source": []
  },
  {
   "cell_type": "markdown",
   "id": "223f4ec4",
   "metadata": {},
   "source": [
    "Example text : "
   ]
  },
  {
   "cell_type": "code",
   "execution_count": null,
   "id": "2b156d52",
   "metadata": {},
   "outputs": [],
   "source": []
  },
  {
   "cell_type": "markdown",
   "id": "669abd46",
   "metadata": {},
   "source": [
    "### NER "
   ]
  },
  {
   "cell_type": "markdown",
   "id": "40e11ce2",
   "metadata": {},
   "source": [
    "\n",
    "Load pre-trained model and tokenizer\n"
   ]
  },
  {
   "cell_type": "code",
   "execution_count": null,
   "id": "fa16f5ae",
   "metadata": {},
   "outputs": [],
   "source": []
  },
  {
   "cell_type": "markdown",
   "id": "9bcf3d7c",
   "metadata": {},
   "source": [
    "NER pipeline\n"
   ]
  },
  {
   "cell_type": "code",
   "execution_count": null,
   "id": "ac050c76",
   "metadata": {},
   "outputs": [],
   "source": []
  },
  {
   "cell_type": "markdown",
   "id": "adc2c983",
   "metadata": {},
   "source": [
    "Example text\n"
   ]
  },
  {
   "cell_type": "code",
   "execution_count": null,
   "id": "72ee573d",
   "metadata": {},
   "outputs": [],
   "source": []
  },
  {
   "cell_type": "markdown",
   "id": "19678f04",
   "metadata": {},
   "source": [
    "### Text-generation"
   ]
  },
  {
   "cell_type": "code",
   "execution_count": null,
   "id": "0b6420f0",
   "metadata": {},
   "outputs": [],
   "source": []
  },
  {
   "cell_type": "markdown",
   "id": "22db75d1",
   "metadata": {},
   "source": [
    "Text generation pipeline"
   ]
  },
  {
   "cell_type": "code",
   "execution_count": null,
   "id": "3ba2034b",
   "metadata": {},
   "outputs": [],
   "source": []
  },
  {
   "cell_type": "markdown",
   "id": "9b82e42f",
   "metadata": {},
   "source": [
    "Generate text"
   ]
  },
  {
   "cell_type": "code",
   "execution_count": null,
   "id": "2dc2a739",
   "metadata": {},
   "outputs": [],
   "source": []
  },
  {
   "cell_type": "code",
   "execution_count": null,
   "id": "5a9d753c",
   "metadata": {},
   "outputs": [],
   "source": []
  },
  {
   "cell_type": "code",
   "execution_count": null,
   "id": "8c395b20",
   "metadata": {},
   "outputs": [],
   "source": []
  },
  {
   "cell_type": "code",
   "execution_count": null,
   "id": "c1f0e1ef",
   "metadata": {},
   "outputs": [],
   "source": []
  },
  {
   "cell_type": "markdown",
   "id": "a7ae4339",
   "metadata": {},
   "source": [
    "Assuming the same model and tokenizer loaded from the previous example\n",
    "Simulate a chatbot response\n"
   ]
  },
  {
   "cell_type": "code",
   "execution_count": null,
   "id": "95533ed1",
   "metadata": {},
   "outputs": [],
   "source": []
  },
  {
   "cell_type": "code",
   "execution_count": null,
   "id": "bd94ffa8",
   "metadata": {},
   "outputs": [],
   "source": []
  },
  {
   "cell_type": "markdown",
   "id": "323a5fdf",
   "metadata": {},
   "source": [
    "### Filled Masked \n",
    "\n",
    "\n"
   ]
  },
  {
   "cell_type": "markdown",
   "id": "54ef4bcc",
   "metadata": {},
   "source": [
    "Load tokenizer and model"
   ]
  },
  {
   "cell_type": "code",
   "execution_count": null,
   "id": "e033a260",
   "metadata": {},
   "outputs": [],
   "source": []
  },
  {
   "cell_type": "markdown",
   "id": "a18f6776",
   "metadata": {},
   "source": [
    "Fill-mask pipeline\n"
   ]
  },
  {
   "cell_type": "code",
   "execution_count": null,
   "id": "b82a6108",
   "metadata": {},
   "outputs": [],
   "source": []
  },
  {
   "cell_type": "markdown",
   "id": "7d6e82c2",
   "metadata": {},
   "source": [
    "Example"
   ]
  },
  {
   "cell_type": "code",
   "execution_count": null,
   "id": "6f4b0000",
   "metadata": {},
   "outputs": [],
   "source": []
  },
  {
   "cell_type": "markdown",
   "id": "b862c5ca",
   "metadata": {},
   "source": [
    "### ..."
   ]
  },
  {
   "cell_type": "code",
   "execution_count": null,
   "id": "cc254aba",
   "metadata": {},
   "outputs": [],
   "source": []
  },
  {
   "cell_type": "code",
   "execution_count": null,
   "id": "e6e2fc8a",
   "metadata": {},
   "outputs": [],
   "source": []
  }
 ],
 "metadata": {
  "kernelspec": {
   "display_name": "Python 3 (ipykernel)",
   "language": "python",
   "name": "python3"
  },
  "language_info": {
   "codemirror_mode": {
    "name": "ipython",
    "version": 3
   },
   "file_extension": ".py",
   "mimetype": "text/x-python",
   "name": "python",
   "nbconvert_exporter": "python",
   "pygments_lexer": "ipython3",
   "version": "3.10.12"
  }
 },
 "nbformat": 4,
 "nbformat_minor": 5
}
