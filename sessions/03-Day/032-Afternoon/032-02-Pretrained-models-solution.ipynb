{
 "cells": [
  {
   "cell_type": "markdown",
   "id": "298b47ff",
   "metadata": {},
   "source": [
    "# 03-02 - Pretrained-models - Solution Notebook"
   ]
  },
  {
   "cell_type": "markdown",
   "id": "71994d33",
   "metadata": {},
   "source": [
    "* Written by Alexandre Gazagnes\n",
    "* Last update: 2024-02-01"
   ]
  },
  {
   "cell_type": "markdown",
   "id": "0734f5ce",
   "metadata": {},
   "source": [
    "## About "
   ]
  },
  {
   "cell_type": "markdown",
   "id": "35632ede",
   "metadata": {},
   "source": [
    "Context : "
   ]
  },
  {
   "cell_type": "markdown",
   "id": "e3cf4220",
   "metadata": {},
   "source": [
    "Let's Continue the Party! "
   ]
  },
  {
   "cell_type": "markdown",
   "id": "8a6ded8b",
   "metadata": {},
   "source": [
    "Data  : \n",
    "\n",
    "**You can find the dataset [here](https://www.kaggle.com/datasets/shoumikdhar/amazon-food-reviews-100k-datasets).**\n",
    "\n",
    "\n"
   ]
  },
  {
   "cell_type": "markdown",
   "id": "5ce5a725",
   "metadata": {},
   "source": [
    "## Preliminaries"
   ]
  },
  {
   "cell_type": "markdown",
   "id": "8073d0cc",
   "metadata": {},
   "source": [
    "### System"
   ]
  },
  {
   "cell_type": "markdown",
   "id": "2803f667",
   "metadata": {},
   "source": [
    "These commands will display the system information:\n",
    "\n",
    "Uncomment theses lines if needed. "
   ]
  },
  {
   "cell_type": "code",
   "execution_count": null,
   "id": "c287eb60",
   "metadata": {},
   "outputs": [],
   "source": [
    "# pwd"
   ]
  },
  {
   "cell_type": "code",
   "execution_count": null,
   "id": "a3c5cdb9",
   "metadata": {},
   "outputs": [],
   "source": [
    "# cd .."
   ]
  },
  {
   "cell_type": "code",
   "execution_count": null,
   "id": "aa6c813d",
   "metadata": {},
   "outputs": [],
   "source": [
    "# ls"
   ]
  },
  {
   "cell_type": "markdown",
   "id": "72149aff",
   "metadata": {},
   "source": [
    "### Import "
   ]
  },
  {
   "cell_type": "code",
   "execution_count": null,
   "id": "675d836c",
   "metadata": {},
   "outputs": [],
   "source": [
    "# import os, sys, warnings, secrets, datetime\n",
    "# import pickle\n",
    "\n",
    "from IPython.display import display\n",
    "import zipfile"
   ]
  },
  {
   "cell_type": "code",
   "execution_count": null,
   "id": "16e32c32",
   "metadata": {},
   "outputs": [],
   "source": [
    "import pandas as pd\n",
    "\n",
    "# import numpy as np"
   ]
  },
  {
   "cell_type": "code",
   "execution_count": null,
   "id": "0847dcde",
   "metadata": {},
   "outputs": [],
   "source": [
    "import plotly.px as px"
   ]
  },
  {
   "cell_type": "code",
   "execution_count": null,
   "id": "dbd00ffc",
   "metadata": {},
   "outputs": [],
   "source": [
    "import tensorflow as tf"
   ]
  },
  {
   "cell_type": "code",
   "execution_count": null,
   "id": "5fcb0526",
   "metadata": {},
   "outputs": [],
   "source": [
    "import transformers\n",
    "\n",
    "from transformers import pipeline, set_seed\n",
    "\n",
    "from transformers import T5Tokenizer, T5ForConditionalGeneration\n",
    "\n",
    "\n",
    "from transformers import BertTokenizer, BertForTokenClassification\n",
    "from transformers import BertTokenizer, BertForSequenceClassification\n",
    "\n",
    "from transformers import DistilBertTokenizer, DistilBertForSequenceClassification\n",
    "\n",
    "from transformers import RobertaTokenizer, RobertaForSequenceClassification\n",
    "from transformers import RobertaTokenizer, RobertaForMaskedLM\n",
    "\n",
    "from transformers import BartTokenizer, BartForConditionalGeneration\n",
    "\n",
    "from transformers import MarianMTModel, MarianTokenizer\n",
    "\n",
    "from transformers import GPT2LMHeadModel, GPT2Tokenizer, pipeline"
   ]
  },
  {
   "cell_type": "markdown",
   "id": "9bc1f1c7",
   "metadata": {},
   "source": [
    "### Third party tools"
   ]
  },
  {
   "cell_type": "markdown",
   "id": "4997cb5c",
   "metadata": {},
   "source": [
    "Set the seed : "
   ]
  },
  {
   "cell_type": "code",
   "execution_count": null,
   "id": "25613545",
   "metadata": {},
   "outputs": [],
   "source": [
    "set_seed(42)"
   ]
  },
  {
   "cell_type": "markdown",
   "id": "a421df44",
   "metadata": {},
   "source": [
    "Download the default classifier :"
   ]
  },
  {
   "cell_type": "code",
   "execution_count": null,
   "id": "6f73f010",
   "metadata": {},
   "outputs": [],
   "source": [
    "classifier = pipeline(\"sentiment-analysis\")"
   ]
  },
  {
   "cell_type": "markdown",
   "id": "6f484f7b",
   "metadata": {},
   "source": [
    "Specifying a model :"
   ]
  },
  {
   "cell_type": "code",
   "execution_count": null,
   "id": "47958d32",
   "metadata": {},
   "outputs": [],
   "source": [
    "roberta_sentiment = pipeline(\n",
    "    \"sentiment-analysis\",\n",
    "    model=\"cardiffnlp/twitter-roberta-base-sentiment-latest\",\n",
    ")"
   ]
  },
  {
   "cell_type": "markdown",
   "id": "d8e3b253",
   "metadata": {},
   "source": [
    "Question answering model : "
   ]
  },
  {
   "cell_type": "code",
   "execution_count": null,
   "id": "46115117",
   "metadata": {},
   "outputs": [],
   "source": [
    "question_answerer = pipeline(\"question-answering\")"
   ]
  },
  {
   "cell_type": "markdown",
   "id": "9a547e62",
   "metadata": {},
   "source": [
    "Text Generator : "
   ]
  },
  {
   "cell_type": "code",
   "execution_count": null,
   "id": "a366917c",
   "metadata": {},
   "outputs": [],
   "source": [
    "gpt2_generator = pipeline(\"text-generation\", model=\"gpt2\")"
   ]
  },
  {
   "cell_type": "code",
   "execution_count": null,
   "id": "b33d5404",
   "metadata": {},
   "outputs": [],
   "source": [
    "# bloom = pipeline(\"text-generation\", model=\"bigscience/bloom-7b1\")"
   ]
  },
  {
   "cell_type": "markdown",
   "id": "df11701a",
   "metadata": {},
   "source": [
    "### Data"
   ]
  },
  {
   "cell_type": "markdown",
   "id": "787f1cfc",
   "metadata": {},
   "source": [
    "Download the dataset :"
   ]
  },
  {
   "cell_type": "code",
   "execution_count": null,
   "id": "f59ecae9",
   "metadata": {},
   "outputs": [],
   "source": [
    "!wget https://www.kaggle.com/datasets/shoumikdhar/amazon-food-reviews-100k-datasets"
   ]
  },
  {
   "cell_type": "markdown",
   "id": "9b7a1b23",
   "metadata": {},
   "source": [
    "Load .zip file"
   ]
  },
  {
   "cell_type": "code",
   "execution_count": null,
   "id": "855343f2",
   "metadata": {},
   "outputs": [],
   "source": [
    "with zipfile.ZipFile(\"archive.zip\", \"r\") as zip_ref:\n",
    "    zip_ref.extractall(\"archive\")\n",
    "    extracted_file = zip_ref.namelist()[0]\n",
    "    df = pd.read_csv(f\"archive/{extracted_file}\")"
   ]
  },
  {
   "cell_type": "markdown",
   "id": "cef760e4",
   "metadata": {},
   "source": [
    "## Data Exploration"
   ]
  },
  {
   "cell_type": "markdown",
   "id": "6cf66254",
   "metadata": {},
   "source": [
    "Head : "
   ]
  },
  {
   "cell_type": "code",
   "execution_count": null,
   "id": "0a765795",
   "metadata": {},
   "outputs": [],
   "source": [
    "df.head()"
   ]
  },
  {
   "cell_type": "markdown",
   "id": "128d0255",
   "metadata": {},
   "source": [
    "Tail : "
   ]
  },
  {
   "cell_type": "code",
   "execution_count": null,
   "id": "99b9055f",
   "metadata": {},
   "outputs": [],
   "source": [
    "df.tail()"
   ]
  },
  {
   "cell_type": "markdown",
   "id": "5eedd30e",
   "metadata": {},
   "source": [
    "Sample : "
   ]
  },
  {
   "cell_type": "code",
   "execution_count": null,
   "id": "e592b54c",
   "metadata": {},
   "outputs": [],
   "source": [
    "df.sample(10)"
   ]
  },
  {
   "cell_type": "markdown",
   "id": "c2e0d992",
   "metadata": {},
   "source": [
    "Split the text (but not with official tokenizer) : "
   ]
  },
  {
   "cell_type": "code",
   "execution_count": null,
   "id": "28a9f49d",
   "metadata": {},
   "outputs": [],
   "source": [
    "df[\"pseudo_token\"] = df.Review.apply(lambda x: x.split())\n",
    "df"
   ]
  },
  {
   "cell_type": "markdown",
   "id": "896ec690",
   "metadata": {},
   "source": [
    "Describe : "
   ]
  },
  {
   "cell_type": "code",
   "execution_count": null,
   "id": "699cc20b",
   "metadata": {},
   "outputs": [],
   "source": [
    "df[\"n_psuedo_token\"] = df.pseudo_token.apply(len).describe().round(2)\n",
    "df.n_psuedo_token.describe()"
   ]
  },
  {
   "cell_type": "markdown",
   "id": "cc55a018",
   "metadata": {},
   "source": [
    "Length of each doc : "
   ]
  },
  {
   "cell_type": "code",
   "execution_count": null,
   "id": "9c3ed20f",
   "metadata": {},
   "outputs": [],
   "source": [
    "df[\"_len\"] = df.Review.str.len().describe()\n",
    "df"
   ]
  },
  {
   "cell_type": "markdown",
   "id": "49c8b853",
   "metadata": {},
   "source": [
    "Describe : "
   ]
  },
  {
   "cell_type": "code",
   "execution_count": null,
   "id": "c64354b5",
   "metadata": {},
   "outputs": [],
   "source": [
    "df.Rating.describe().round(2)"
   ]
  },
  {
   "cell_type": "markdown",
   "id": "2d214f15",
   "metadata": {},
   "source": [
    "## High Level Implementation"
   ]
  },
  {
   "cell_type": "markdown",
   "id": "7733e417",
   "metadata": {},
   "source": [
    "### Classification & Sentiment Analysis"
   ]
  },
  {
   "cell_type": "markdown",
   "id": "6e5f269b",
   "metadata": {},
   "source": [
    "Use a classifier : "
   ]
  },
  {
   "cell_type": "code",
   "execution_count": null,
   "id": "7e46f223",
   "metadata": {},
   "outputs": [],
   "source": [
    "classifier(\"AI stuff is real hard to understand.\")"
   ]
  },
  {
   "cell_type": "code",
   "execution_count": null,
   "id": "6ec39d6a",
   "metadata": {},
   "outputs": [],
   "source": [
    "classifier(\"AI stuff is real hard to understand.\", top_k=3)"
   ]
  },
  {
   "cell_type": "code",
   "execution_count": null,
   "id": "06ec019c",
   "metadata": {},
   "outputs": [],
   "source": [
    "classifier(\"AI stuff is so fun\")"
   ]
  },
  {
   "cell_type": "code",
   "execution_count": null,
   "id": "d4f5b0f5",
   "metadata": {},
   "outputs": [],
   "source": [
    "classifier(\"can you say me if AI is good or not...\")"
   ]
  },
  {
   "cell_type": "markdown",
   "id": "23d039e3",
   "metadata": {},
   "source": [
    "Apply on a column : "
   ]
  },
  {
   "cell_type": "code",
   "execution_count": null,
   "id": "fe16f93f",
   "metadata": {},
   "outputs": [],
   "source": [
    "results = df.Review.head().apply(classifier)\n",
    "results"
   ]
  },
  {
   "cell_type": "markdown",
   "id": "46fcb430",
   "metadata": {},
   "source": [
    "Results : "
   ]
  },
  {
   "cell_type": "code",
   "execution_count": null,
   "id": "f61cef09",
   "metadata": {},
   "outputs": [],
   "source": [
    "results.explode()"
   ]
  },
  {
   "cell_type": "code",
   "execution_count": null,
   "id": "517f574a",
   "metadata": {},
   "outputs": [],
   "source": [
    "results.apply(pd.Series)\n",
    "results"
   ]
  },
  {
   "cell_type": "markdown",
   "id": "6ce994eb",
   "metadata": {},
   "source": [
    "Join Both : "
   ]
  },
  {
   "cell_type": "code",
   "execution_count": null,
   "id": "55da453c",
   "metadata": {},
   "outputs": [],
   "source": [
    "df.head().join(results)"
   ]
  },
  {
   "cell_type": "markdown",
   "id": "b28cc386",
   "metadata": {},
   "source": [
    "using another tool : "
   ]
  },
  {
   "cell_type": "code",
   "execution_count": null,
   "id": "52ae757b",
   "metadata": {},
   "outputs": [],
   "source": [
    "roberta_sentiment(\"AI stuff is real hard to understand.\")"
   ]
  },
  {
   "cell_type": "code",
   "execution_count": null,
   "id": "b03a33d3",
   "metadata": {},
   "outputs": [],
   "source": [
    "roberta_sentiment(\"AI stuff is so fun\")"
   ]
  },
  {
   "cell_type": "code",
   "execution_count": null,
   "id": "adcf4ee9",
   "metadata": {},
   "outputs": [],
   "source": [
    "roberta_sentiment(\"can you say me if AI is good or not...\")"
   ]
  },
  {
   "cell_type": "code",
   "execution_count": null,
   "id": "16630c61",
   "metadata": {},
   "outputs": [],
   "source": [
    "results = df.Review.head().apply(roberta_sentiment).explode().apply(pd.Series)\n",
    "results"
   ]
  },
  {
   "cell_type": "markdown",
   "id": "7bd2b592",
   "metadata": {},
   "source": [
    "check this blog for more infomation: [Getting Started with Sentiment Analysis using Python](https://huggingface.co/blog/sentiment-analysis-python)"
   ]
  },
  {
   "cell_type": "markdown",
   "id": "f4a0ec68",
   "metadata": {},
   "source": [
    "### Information Extraction & Questing Answering"
   ]
  },
  {
   "cell_type": "code",
   "execution_count": null,
   "id": "4d933a17",
   "metadata": {},
   "outputs": [],
   "source": [
    "txt = \"hello, i am a 40 years old guy liking in san francisco with my dog and my guitar. I want to learn how to code, can you help me ?\"\n",
    "\n",
    "out = question_answerer(question=\"are old am i ? \", context=txt, top_k=10)"
   ]
  },
  {
   "cell_type": "code",
   "execution_count": null,
   "id": "66fbd3dc",
   "metadata": {},
   "outputs": [],
   "source": [
    "out = pd.DataFrame(out)\n",
    "out"
   ]
  },
  {
   "cell_type": "code",
   "execution_count": null,
   "id": "4a02ebd8",
   "metadata": {},
   "outputs": [],
   "source": [
    "out.score.sum()"
   ]
  },
  {
   "cell_type": "code",
   "execution_count": null,
   "id": "ae7196e7",
   "metadata": {},
   "outputs": [],
   "source": [
    "out[\"_cumsum\"] = out.score.cumsum()\n",
    "out"
   ]
  },
  {
   "cell_type": "code",
   "execution_count": null,
   "id": "d0cdfd70",
   "metadata": {},
   "outputs": [],
   "source": [
    "threshold = 0.75\n",
    "\n",
    "clean_out = out.loc[out._cumsum < threshold]\n",
    "clean_out"
   ]
  },
  {
   "cell_type": "code",
   "execution_count": null,
   "id": "469a0224",
   "metadata": {},
   "outputs": [],
   "source": [
    "answers = clean_out.answer.tolist()\n",
    "answers"
   ]
  },
  {
   "cell_type": "code",
   "execution_count": null,
   "id": "02da0ed1",
   "metadata": {},
   "outputs": [],
   "source": [
    "question_answerer(question=\"what is the product?\", context=df.Review.values[4])"
   ]
  },
  {
   "cell_type": "code",
   "execution_count": null,
   "id": "80c20f2a",
   "metadata": {},
   "outputs": [],
   "source": [
    "qa_model = pipeline(\"question-answering\")\n",
    "question = \"Where do I live?\"\n",
    "context = \"My name is Merve and I live in İstanbul.\"\n",
    "qa_model(question=question, context=context, top_k=3)\n",
    "## {'answer': 'İstanbul', 'end': 39, 'score': 0.953, 'start': 31}"
   ]
  },
  {
   "cell_type": "markdown",
   "id": "6cd28ba5",
   "metadata": {},
   "source": [
    "### Text Generation & Prompting"
   ]
  },
  {
   "cell_type": "code",
   "execution_count": null,
   "id": "e22c7a5e",
   "metadata": {},
   "outputs": [],
   "source": [
    "gpt2_generator(\"Hello, I'm an NLP student,\", max_length=30, num_return_sequences=5)"
   ]
  },
  {
   "cell_type": "code",
   "execution_count": null,
   "id": "d9b99a7d",
   "metadata": {},
   "outputs": [],
   "source": [
    "out = gpt2_generator(\n",
    "    \"Hello, I'm an computer science student,\", max_length=30, num_return_sequences=5\n",
    ")\n",
    "out"
   ]
  },
  {
   "cell_type": "code",
   "execution_count": null,
   "id": "f7be8c09",
   "metadata": {},
   "outputs": [],
   "source": [
    "for dd in out:\n",
    "    print(dd[\"generated_text\"])"
   ]
  },
  {
   "cell_type": "code",
   "execution_count": null,
   "id": "a0d287aa",
   "metadata": {},
   "outputs": [],
   "source": [
    "out = gpt2_generator(\n",
    "    \"Hello, I'm an computer science student,\", max_length=100, num_return_sequences=10\n",
    ")\n",
    "out"
   ]
  },
  {
   "cell_type": "code",
   "execution_count": null,
   "id": "d9a3ddf8",
   "metadata": {},
   "outputs": [],
   "source": [
    "for dd in out:\n",
    "    print(dd[\"generated_text\"])"
   ]
  },
  {
   "cell_type": "code",
   "execution_count": null,
   "id": "c2c61347",
   "metadata": {},
   "outputs": [],
   "source": [
    "# with the open source Bloom model https://huggingface.co/bigscience/bloom"
   ]
  },
  {
   "cell_type": "code",
   "execution_count": null,
   "id": "36ae36a4",
   "metadata": {},
   "outputs": [],
   "source": []
  },
  {
   "cell_type": "code",
   "execution_count": null,
   "id": "8dc6eada",
   "metadata": {},
   "outputs": [],
   "source": []
  },
  {
   "cell_type": "markdown",
   "id": "d8cd5af0",
   "metadata": {},
   "source": [
    "### Translation"
   ]
  },
  {
   "cell_type": "code",
   "execution_count": null,
   "id": "924a1b16",
   "metadata": {},
   "outputs": [],
   "source": [
    "# UP TO YOU TO FIND IT 😉"
   ]
  },
  {
   "cell_type": "code",
   "execution_count": null,
   "id": "3883eb56",
   "metadata": {},
   "outputs": [],
   "source": []
  },
  {
   "cell_type": "markdown",
   "id": "9348e801",
   "metadata": {},
   "source": [
    "### Summarization"
   ]
  },
  {
   "cell_type": "code",
   "execution_count": null,
   "id": "e4e8908f",
   "metadata": {},
   "outputs": [],
   "source": [
    "# UP TO YOU TO FIND IT 😉"
   ]
  },
  {
   "cell_type": "code",
   "execution_count": null,
   "id": "2c6c04b6",
   "metadata": {},
   "outputs": [],
   "source": []
  },
  {
   "cell_type": "code",
   "execution_count": null,
   "id": "75a40c16",
   "metadata": {},
   "outputs": [],
   "source": []
  },
  {
   "cell_type": "markdown",
   "id": "114fe08b",
   "metadata": {},
   "source": [
    "## Specific Implementation"
   ]
  },
  {
   "cell_type": "markdown",
   "id": "e46599ac",
   "metadata": {},
   "source": [
    "### Sentiment"
   ]
  },
  {
   "cell_type": "markdown",
   "id": "9cd0f4e3",
   "metadata": {},
   "source": [
    "Load pre-trained model and tokenizer"
   ]
  },
  {
   "cell_type": "code",
   "execution_count": null,
   "id": "a6e26a68",
   "metadata": {},
   "outputs": [],
   "source": [
    "tokenizer = BertTokenizer.from_pretrained(\"bert-base-uncased\")\n",
    "model = BertForSequenceClassification.from_pretrained(\"bert-base-uncased\")"
   ]
  },
  {
   "cell_type": "markdown",
   "id": "0b24cea5",
   "metadata": {},
   "source": [
    "\n",
    "Sentiment analysis pipeline\n",
    "\n"
   ]
  },
  {
   "cell_type": "code",
   "execution_count": null,
   "id": "cef3eda7",
   "metadata": {},
   "outputs": [],
   "source": [
    "nlp = pipeline(\"sentiment-analysis\", model=model, tokenizer=tokenizer)"
   ]
  },
  {
   "cell_type": "markdown",
   "id": "223f4ec4",
   "metadata": {},
   "source": [
    "Example text : "
   ]
  },
  {
   "cell_type": "code",
   "execution_count": null,
   "id": "2b156d52",
   "metadata": {},
   "outputs": [],
   "source": [
    "result = nlp(\"I love learning about data science with Transformers!\")\n",
    "print(result)"
   ]
  },
  {
   "cell_type": "markdown",
   "id": "669abd46",
   "metadata": {},
   "source": [
    "### NER "
   ]
  },
  {
   "cell_type": "markdown",
   "id": "40e11ce2",
   "metadata": {},
   "source": [
    "\n",
    "Load pre-trained model and tokenizer\n"
   ]
  },
  {
   "cell_type": "code",
   "execution_count": null,
   "id": "fa16f5ae",
   "metadata": {},
   "outputs": [],
   "source": [
    "tokenizer = BertTokenizer.from_pretrained(\"bert-base-uncased\")\n",
    "model = BertForTokenClassification.from_pretrained(\"bert-base-uncased\")"
   ]
  },
  {
   "cell_type": "markdown",
   "id": "9bcf3d7c",
   "metadata": {},
   "source": [
    "NER pipeline\n"
   ]
  },
  {
   "cell_type": "code",
   "execution_count": null,
   "id": "ac050c76",
   "metadata": {},
   "outputs": [],
   "source": [
    "nlp = pipeline(\"ner\", model=model, tokenizer=tokenizer)"
   ]
  },
  {
   "cell_type": "markdown",
   "id": "adc2c983",
   "metadata": {},
   "source": [
    "Example text\n"
   ]
  },
  {
   "cell_type": "code",
   "execution_count": null,
   "id": "72ee573d",
   "metadata": {},
   "outputs": [],
   "source": [
    "result = nlp(\"Hugging Face is a technology company based in New York\")\n",
    "print(result)"
   ]
  },
  {
   "cell_type": "markdown",
   "id": "19678f04",
   "metadata": {},
   "source": [
    "### Text-generation"
   ]
  },
  {
   "cell_type": "code",
   "execution_count": null,
   "id": "0b6420f0",
   "metadata": {},
   "outputs": [],
   "source": [
    "tokenizer = GPT2Tokenizer.from_pretrained(\"gpt2\")\n",
    "model = GPT2LMHeadModel.from_pretrained(\"gpt2\")"
   ]
  },
  {
   "cell_type": "markdown",
   "id": "22db75d1",
   "metadata": {},
   "source": [
    "Text generation pipeline"
   ]
  },
  {
   "cell_type": "code",
   "execution_count": null,
   "id": "3ba2034b",
   "metadata": {},
   "outputs": [],
   "source": [
    "text_generator = pipeline(\"text-generation\", model=model, tokenizer=tokenizer)"
   ]
  },
  {
   "cell_type": "markdown",
   "id": "9b82e42f",
   "metadata": {},
   "source": [
    "Generate text"
   ]
  },
  {
   "cell_type": "code",
   "execution_count": null,
   "id": "2dc2a739",
   "metadata": {},
   "outputs": [],
   "source": [
    "print(text_generator(\"Artificial intelligence is\", max_length=50))"
   ]
  },
  {
   "cell_type": "code",
   "execution_count": null,
   "id": "5a9d753c",
   "metadata": {},
   "outputs": [],
   "source": [
    "tokenizer = GPT2Tokenizer.from_pretrained(\"gpt2\")\n",
    "model = GPT2LMHeadModel.from_pretrained(\"gpt2\")"
   ]
  },
  {
   "cell_type": "code",
   "execution_count": null,
   "id": "8c395b20",
   "metadata": {},
   "outputs": [],
   "source": [
    "text_generator = pipeline(\"text-generation\", model=model, tokenizer=tokenizer)"
   ]
  },
  {
   "cell_type": "code",
   "execution_count": null,
   "id": "c1f0e1ef",
   "metadata": {},
   "outputs": [],
   "source": [
    "# Generate text\n",
    "print(text_generator(\"Artificial intelligence is\", max_length=50))"
   ]
  },
  {
   "cell_type": "markdown",
   "id": "a7ae4339",
   "metadata": {},
   "source": [
    "Assuming the same model and tokenizer loaded from the previous example\n",
    "Simulate a chatbot response\n"
   ]
  },
  {
   "cell_type": "code",
   "execution_count": null,
   "id": "95533ed1",
   "metadata": {},
   "outputs": [],
   "source": [
    "chat_input = \"Hello, how can I assist you today?\"\n",
    "chat_response = text_generator(chat_input, max_length=50)"
   ]
  },
  {
   "cell_type": "code",
   "execution_count": null,
   "id": "bd94ffa8",
   "metadata": {},
   "outputs": [],
   "source": [
    "print(chat_response)"
   ]
  },
  {
   "cell_type": "markdown",
   "id": "323a5fdf",
   "metadata": {},
   "source": [
    "### Filled Masked \n",
    "\n",
    "\n"
   ]
  },
  {
   "cell_type": "markdown",
   "id": "54ef4bcc",
   "metadata": {},
   "source": [
    "Load tokenizer and model"
   ]
  },
  {
   "cell_type": "code",
   "execution_count": null,
   "id": "e033a260",
   "metadata": {},
   "outputs": [],
   "source": [
    "tokenizer = RobertaTokenizer.from_pretrained(\"\")\n",
    "model = RobertaForMaskedLM.from_pretrained(\"roberta-base\")"
   ]
  },
  {
   "cell_type": "markdown",
   "id": "a18f6776",
   "metadata": {},
   "source": [
    "Fill-mask pipeline\n"
   ]
  },
  {
   "cell_type": "code",
   "execution_count": null,
   "id": "b82a6108",
   "metadata": {},
   "outputs": [],
   "source": [
    "fill_mask = pipeline(\"fill-mask\", model=\"roberta-base\")"
   ]
  },
  {
   "cell_type": "markdown",
   "id": "7d6e82c2",
   "metadata": {},
   "source": [
    "Example"
   ]
  },
  {
   "cell_type": "code",
   "execution_count": null,
   "id": "6f4b0000",
   "metadata": {},
   "outputs": [],
   "source": [
    "print(fill_mask(\"The weather today is <mask>.\"))"
   ]
  },
  {
   "cell_type": "markdown",
   "id": "b862c5ca",
   "metadata": {},
   "source": [
    "### ..."
   ]
  },
  {
   "cell_type": "code",
   "execution_count": null,
   "id": "cc254aba",
   "metadata": {},
   "outputs": [],
   "source": []
  },
  {
   "cell_type": "code",
   "execution_count": null,
   "id": "e6e2fc8a",
   "metadata": {},
   "outputs": [],
   "source": []
  }
 ],
 "metadata": {
  "kernelspec": {
   "display_name": "Python 3 (ipykernel)",
   "language": "python",
   "name": "python3"
  },
  "language_info": {
   "codemirror_mode": {
    "name": "ipython",
    "version": 3
   },
   "file_extension": ".py",
   "mimetype": "text/x-python",
   "name": "python",
   "nbconvert_exporter": "python",
   "pygments_lexer": "ipython3",
   "version": "3.10.12"
  }
 },
 "nbformat": 4,
 "nbformat_minor": 5
}
