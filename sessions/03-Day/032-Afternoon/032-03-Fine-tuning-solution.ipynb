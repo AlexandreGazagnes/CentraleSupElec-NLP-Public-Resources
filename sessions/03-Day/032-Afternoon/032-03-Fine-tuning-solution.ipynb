{
 "cells": [
  {
   "cell_type": "markdown",
   "id": "871c69e1",
   "metadata": {},
   "source": [
    "# 032-03 - Fine Tuning - Solution Notebook"
   ]
  },
  {
   "cell_type": "markdown",
   "id": "f99a95f7",
   "metadata": {},
   "source": [
    "* Written by Alexandre Gazagnes\n",
    "* Last update: 2024-02-01"
   ]
  },
  {
   "cell_type": "markdown",
   "id": "03e84b69",
   "metadata": {},
   "source": [
    "## About "
   ]
  },
  {
   "cell_type": "markdown",
   "id": "bd085ae4",
   "metadata": {},
   "source": [
    "Context : "
   ]
  },
  {
   "cell_type": "markdown",
   "id": "267e6f08",
   "metadata": {},
   "source": [
    "Let's Continue the Party! "
   ]
  },
  {
   "cell_type": "markdown",
   "id": "135fe3ce",
   "metadata": {},
   "source": [
    "Data  : \n",
    "\n",
    "**You can find the dataset [here](https://huggingface.co/docs/datasets/en/index).**\n",
    "\n",
    "\n"
   ]
  },
  {
   "cell_type": "markdown",
   "id": "d1624d47",
   "metadata": {},
   "source": [
    "## Preliminaries"
   ]
  },
  {
   "cell_type": "markdown",
   "id": "45827d9a",
   "metadata": {},
   "source": [
    "### System"
   ]
  },
  {
   "cell_type": "raw",
   "id": "7955df27",
   "metadata": {},
   "source": [
    "https://huggingface.co/docs/datasets/tabular_load#pandas-dataframes\n",
    "https://huggingface.co/docs/datasets/loading#loading-from-local-files\n",
    "https://huggingface.co/docs/transformers/training"
   ]
  },
  {
   "cell_type": "markdown",
   "id": "4cdc270c",
   "metadata": {},
   "source": [
    "These commands will display the system information:\n",
    "\n",
    "Uncomment theses lines if needed. "
   ]
  },
  {
   "cell_type": "code",
   "execution_count": null,
   "id": "c7477afb",
   "metadata": {},
   "outputs": [],
   "source": [
    "# pwd"
   ]
  },
  {
   "cell_type": "code",
   "execution_count": null,
   "id": "a2d40057",
   "metadata": {},
   "outputs": [],
   "source": [
    "# cd .."
   ]
  },
  {
   "cell_type": "code",
   "execution_count": null,
   "id": "790930ce",
   "metadata": {},
   "outputs": [],
   "source": [
    "# ls"
   ]
  },
  {
   "cell_type": "code",
   "execution_count": null,
   "id": "9aa41f8d",
   "metadata": {},
   "outputs": [],
   "source": [
    "# cd .."
   ]
  },
  {
   "cell_type": "code",
   "execution_count": null,
   "id": "3ed8cfd7",
   "metadata": {},
   "outputs": [],
   "source": [
    "# ls"
   ]
  },
  {
   "cell_type": "markdown",
   "id": "35d69153",
   "metadata": {},
   "source": [
    "### Install"
   ]
  },
  {
   "cell_type": "code",
   "execution_count": 1,
   "id": "e79f83f4",
   "metadata": {},
   "outputs": [],
   "source": [
    "#! pip install transformers datasets evaluate"
   ]
  },
  {
   "cell_type": "code",
   "execution_count": null,
   "id": "0cb03a17",
   "metadata": {},
   "outputs": [],
   "source": [
    "# https://download.pytorch.org/whl/cu116\n",
    "# !pip3 install torch torchvision torchaudio --extra-index-url"
   ]
  },
  {
   "cell_type": "markdown",
   "id": "ee08e910",
   "metadata": {},
   "source": [
    "### Imports"
   ]
  },
  {
   "cell_type": "code",
   "execution_count": null,
   "id": "3bba56a5",
   "metadata": {},
   "outputs": [],
   "source": [
    "import os"
   ]
  },
  {
   "cell_type": "code",
   "execution_count": null,
   "id": "7a872138",
   "metadata": {},
   "outputs": [],
   "source": [
    "import pandas as pd\n",
    "\n",
    "# import numpy as np"
   ]
  },
  {
   "cell_type": "code",
   "execution_count": null,
   "id": "5a984125",
   "metadata": {},
   "outputs": [],
   "source": [
    "import torch"
   ]
  },
  {
   "cell_type": "code",
   "execution_count": null,
   "id": "3b33be9f",
   "metadata": {},
   "outputs": [],
   "source": [
    "from datasets import load_dataset\n",
    "from transformers import AutoTokenizer\n",
    "from transformers import AutoModelForSequenceClassification"
   ]
  },
  {
   "cell_type": "code",
   "execution_count": null,
   "id": "d41fb34f",
   "metadata": {},
   "outputs": [],
   "source": [
    "from transformers import TrainingArguments"
   ]
  },
  {
   "cell_type": "code",
   "execution_count": null,
   "id": "c209060a",
   "metadata": {},
   "outputs": [],
   "source": [
    "import evaluate\n",
    "\n",
    "from transformers import Trainer\n",
    "\n",
    "from datasets import load_dataset"
   ]
  },
  {
   "cell_type": "markdown",
   "id": "3f3796c6",
   "metadata": {},
   "source": [
    "### Data"
   ]
  },
  {
   "cell_type": "markdown",
   "id": "d058837a",
   "metadata": {},
   "source": [
    "First Data : "
   ]
  },
  {
   "cell_type": "code",
   "execution_count": null,
   "id": "7abc88bf",
   "metadata": {},
   "outputs": [],
   "source": [
    "dataset_train = load_dataset(\n",
    "    \"csv\",\n",
    "    data_files=\"archive/amazon Food Reviews 100k Dataset.csv\",\n",
    "    split=\"train[:10%]\",\n",
    ")\n",
    "\n",
    "dataset_eval = load_dataset(\n",
    "    \"csv\",\n",
    "    data_files=\"archive/amazon Food Reviews 100k Dataset.csv\",\n",
    "    split=\"train[10%:20%]\",\n",
    ")"
   ]
  },
  {
   "cell_type": "markdown",
   "id": "27651a4d",
   "metadata": {},
   "source": [
    "Second Data : "
   ]
  },
  {
   "cell_type": "code",
   "execution_count": null,
   "id": "d58ba65f",
   "metadata": {},
   "outputs": [],
   "source": [
    "dataset_train = (\n",
    "    dataset_train.rename_column(\"Review\", \"text\")\n",
    "    .rename_column(\"Rating\", \"label\")\n",
    "    .remove_columns([\"Id\"])\n",
    ")\n",
    "\n",
    "dataset_eval = (\n",
    "    dataset_eval.rename_column(\"Review\", \"text\")\n",
    "    .rename_column(\"Rating\", \"label\")\n",
    "    .remove_columns([\"Id\"])\n",
    ")"
   ]
  },
  {
   "cell_type": "markdown",
   "id": "5b8f7a21",
   "metadata": {},
   "source": [
    "## Fine tuning"
   ]
  },
  {
   "cell_type": "markdown",
   "id": "e82348d7",
   "metadata": {},
   "source": [
    "### Tokenizer"
   ]
  },
  {
   "cell_type": "markdown",
   "id": "59591829",
   "metadata": {},
   "source": [
    "Init tokenizer : "
   ]
  },
  {
   "cell_type": "code",
   "execution_count": null,
   "id": "ed232a1e",
   "metadata": {},
   "outputs": [],
   "source": [
    "tokenizer = AutoTokenizer.from_pretrained(\"bert-base-cased\")\n",
    "tokenizer"
   ]
  },
  {
   "cell_type": "markdown",
   "id": "14ffd5fd",
   "metadata": {},
   "source": [
    "Apply tokenizer : \n"
   ]
  },
  {
   "cell_type": "code",
   "execution_count": null,
   "id": "670aef0f",
   "metadata": {},
   "outputs": [],
   "source": [
    "def tokenize_function(examples):\n",
    "    return tokenizer(examples[\"text\"], padding=\"max_length\", truncation=True)"
   ]
  },
  {
   "cell_type": "code",
   "execution_count": null,
   "id": "e9edef02",
   "metadata": {},
   "outputs": [],
   "source": [
    "tokenized_dataset_train = dataset_train.map(tokenize_function, batched=True)\n",
    "tokenized_dataset_eval = dataset_eval.map(tokenize_function, batched=True)"
   ]
  },
  {
   "cell_type": "markdown",
   "id": "2b74a0c2",
   "metadata": {},
   "source": [
    "### Process labels"
   ]
  },
  {
   "cell_type": "markdown",
   "id": "b24949d1",
   "metadata": {},
   "source": [
    "Keep the label -1"
   ]
  },
  {
   "cell_type": "code",
   "execution_count": null,
   "id": "364a8fa9",
   "metadata": {},
   "outputs": [],
   "source": [
    "def minus_1(example):\n",
    "    example[\"label\"] = example[\"label\"] - 1\n",
    "    return example"
   ]
  },
  {
   "cell_type": "markdown",
   "id": "bc4ed3a6",
   "metadata": {},
   "source": [
    "Tokenize : "
   ]
  },
  {
   "cell_type": "code",
   "execution_count": null,
   "id": "c56ec21c",
   "metadata": {},
   "outputs": [],
   "source": [
    "tokenized_dataset_train = tokenized_dataset_train.map(minus_1)\n",
    "tokenized_dataset_eval = tokenized_dataset_eval.map(minus_1)"
   ]
  },
  {
   "cell_type": "markdown",
   "id": "d7ac796a",
   "metadata": {},
   "source": [
    "To pandas : "
   ]
  },
  {
   "cell_type": "code",
   "execution_count": null,
   "id": "3682a54c",
   "metadata": {},
   "outputs": [],
   "source": [
    "tokenized_dataset_train.to_pandas().head()"
   ]
  },
  {
   "cell_type": "markdown",
   "id": "4111657a",
   "metadata": {},
   "source": [
    "### Load the model"
   ]
  },
  {
   "cell_type": "markdown",
   "id": "b949fad6",
   "metadata": {},
   "source": [
    "Start by loading your model and specify the number of expected labels."
   ]
  },
  {
   "cell_type": "code",
   "execution_count": null,
   "id": "44ad6a29",
   "metadata": {},
   "outputs": [],
   "source": [
    "model = AutoModelForSequenceClassification.from_pretrained(\n",
    "    \"bert-base-cased\", num_labels=5\n",
    ")"
   ]
  },
  {
   "cell_type": "markdown",
   "id": "5344f4ef",
   "metadata": {},
   "source": [
    "Manage Cuda"
   ]
  },
  {
   "cell_type": "code",
   "execution_count": null,
   "id": "06b78e9e",
   "metadata": {},
   "outputs": [],
   "source": [
    "os.environ[\"CUDA_VISIBLE_DEVICES\"] = \"\""
   ]
  },
  {
   "cell_type": "code",
   "execution_count": null,
   "id": "56b23fa4",
   "metadata": {},
   "outputs": [],
   "source": [
    "model = model.to(\"cuda\")"
   ]
  },
  {
   "cell_type": "markdown",
   "id": "45895d6a",
   "metadata": {},
   "source": [
    "Training hyperparameters\n",
    "\n",
    "Specify where to save the checkpoints from your training.\n",
    "\n",
    "\n",
    "Specify the evaluation_strategy parameter in your training arguments to report the evaluation metric at the end of each epoch:"
   ]
  },
  {
   "cell_type": "code",
   "execution_count": null,
   "id": "40884944",
   "metadata": {},
   "outputs": [],
   "source": [
    "training_args = TrainingArguments(\n",
    "    output_dir=\"test_trainer\", evaluation_strategy=\"epoch\"\n",
    ")"
   ]
  },
  {
   "cell_type": "markdown",
   "id": "826ecea3",
   "metadata": {},
   "source": [
    "### Evalute"
   ]
  },
  {
   "cell_type": "markdown",
   "id": "601d0455",
   "metadata": {},
   "source": [
    "Our Metric : "
   ]
  },
  {
   "cell_type": "code",
   "execution_count": null,
   "id": "2c145b09",
   "metadata": {},
   "outputs": [],
   "source": [
    "metric = evaluate.load(\"accuracy\")"
   ]
  },
  {
   "cell_type": "markdown",
   "id": "df189796",
   "metadata": {},
   "source": [
    "Metric function : "
   ]
  },
  {
   "cell_type": "code",
   "execution_count": null,
   "id": "811c2bc6",
   "metadata": {},
   "outputs": [],
   "source": [
    "def compute_metrics(eval_pred):\n",
    "    logits, labels = eval_pred\n",
    "    predictions = np.argmax(logits, axis=-1)\n",
    "    return metric.compute(predictions=predictions, references=labels)"
   ]
  },
  {
   "cell_type": "markdown",
   "id": "a16e0283",
   "metadata": {},
   "source": [
    "### Trainer"
   ]
  },
  {
   "cell_type": "markdown",
   "id": "37d751d9",
   "metadata": {},
   "source": [
    "Init the trainer : "
   ]
  },
  {
   "cell_type": "code",
   "execution_count": null,
   "id": "7407e6df",
   "metadata": {},
   "outputs": [],
   "source": [
    "trainer = Trainer(\n",
    "    model=model,\n",
    "    args=training_args,\n",
    "    train_dataset=tokenized_dataset_train,\n",
    "    eval_dataset=tokenized_dataset_eval,\n",
    "    compute_metrics=compute_metrics,\n",
    ")"
   ]
  },
  {
   "cell_type": "markdown",
   "id": "69d6252e",
   "metadata": {},
   "source": [
    "Train : "
   ]
  },
  {
   "cell_type": "code",
   "execution_count": null,
   "id": "e3f47209",
   "metadata": {
    "scrolled": false
   },
   "outputs": [],
   "source": [
    "trainer.train()"
   ]
  },
  {
   "cell_type": "markdown",
   "id": "6f4ac2b7",
   "metadata": {},
   "source": [
    "Eval : "
   ]
  },
  {
   "cell_type": "code",
   "execution_count": null,
   "id": "2c2f4610",
   "metadata": {},
   "outputs": [],
   "source": [
    "trainer.evaluate()"
   ]
  },
  {
   "cell_type": "markdown",
   "id": "1bd113c2",
   "metadata": {},
   "source": [
    "Manage GPU"
   ]
  },
  {
   "cell_type": "code",
   "execution_count": null,
   "id": "b054cbac",
   "metadata": {},
   "outputs": [],
   "source": [
    "if torch.cuda.is_available():\n",
    "    print(\"Number of GPU devices:\", torch.cuda.device_count())\n",
    "    for i in range(torch.cuda.device_count()):\n",
    "        print(\"Device name:\", torch.cuda.get_device_name(i))\n",
    "else:\n",
    "    print(\"No GPU available.\")"
   ]
  },
  {
   "cell_type": "code",
   "execution_count": null,
   "id": "7014aa7f",
   "metadata": {},
   "outputs": [],
   "source": [
    "# https://www.nvidia.com/Download/index.aspx"
   ]
  }
 ],
 "metadata": {
  "kernelspec": {
   "display_name": "Python 3 (ipykernel)",
   "language": "python",
   "name": "python3"
  },
  "language_info": {
   "codemirror_mode": {
    "name": "ipython",
    "version": 3
   },
   "file_extension": ".py",
   "mimetype": "text/x-python",
   "name": "python",
   "nbconvert_exporter": "python",
   "pygments_lexer": "ipython3",
   "version": "3.10.12"
  }
 },
 "nbformat": 4,
 "nbformat_minor": 5
}
